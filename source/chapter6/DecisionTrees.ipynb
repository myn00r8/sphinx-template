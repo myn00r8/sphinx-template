{
 "cells": [
  {
   "cell_type": "code",
   "execution_count": 1,
   "id": "crazy-mailing",
   "metadata": {},
   "outputs": [
    {
     "data": {
      "text/plain": [
       "DecisionTreeClassifier(max_depth=2)"
      ]
     },
     "execution_count": 1,
     "metadata": {},
     "output_type": "execute_result"
    }
   ],
   "source": [
    "from sklearn.datasets import load_iris\n",
    "from sklearn.tree import DecisionTreeClassifier\n",
    "\n",
    "iris = load_iris()\n",
    "X = iris.data[:, 2:] # petal length and width\n",
    "y = iris.target\n",
    "\n",
    "tree_clf = DecisionTreeClassifier(max_depth=2)\n",
    "tree_clf.fit(X, y)"
   ]
  },
  {
   "cell_type": "markdown",
   "id": "premium-retirement",
   "metadata": {},
   "source": [
    "DecisionTreeClassifier is a predictive model to gain information about a specific item by having the advantage to easily understand, interpret, and visualise the data, it can estimate the probalibity of an instance belonging to a specific class by predicting a class in each node.It can also be apply in regression and classification problems. This first code is makeing an instance of the model and training the model on the data."
   ]
  },
  {
   "cell_type": "code",
   "execution_count": 2,
   "id": "executive-seller",
   "metadata": {},
   "outputs": [],
   "source": [
    "from sklearn.tree import export_graphviz\n",
    "\n",
    "export_graphviz(\n",
    "        tree_clf,\n",
    "        out_file=\"C:/Users/iki/Desktop/sphinx-template/iris_tree.dot\",\n",
    "        feature_names=iris.feature_names[2:],\n",
    "        class_names=iris.target_names,\n",
    "        rounded=True,\n",
    "        filled=True\n",
    " )"
   ]
  },
  {
   "cell_type": "markdown",
   "id": "warming-archive",
   "metadata": {},
   "source": []
  },
  {
   "cell_type": "markdown",
   "id": "colonial-poetry",
   "metadata": {},
   "source": [
    "Export_graphviz will create a dot file and that file will be graphviz representing a decicion tree, and exports it as iris_tree.dot, but It can be convert as an image file applying the right coding."
   ]
  },
  {
   "cell_type": "code",
   "execution_count": 3,
   "id": "injured-access",
   "metadata": {},
   "outputs": [
    {
     "data": {
      "text/plain": [
       "array([[0.        , 0.90740741, 0.09259259]])"
      ]
     },
     "execution_count": 3,
     "metadata": {},
     "output_type": "execute_result"
    }
   ],
   "source": [
    "tree_clf.predict_proba([[5, 1.5]])"
   ]
  },
  {
   "cell_type": "code",
   "execution_count": 4,
   "id": "desirable-contract",
   "metadata": {},
   "outputs": [
    {
     "data": {
      "text/plain": [
       "array([1])"
      ]
     },
     "execution_count": 4,
     "metadata": {},
     "output_type": "execute_result"
    }
   ],
   "source": [
    "tree_clf.predict([[5, 1.5]])"
   ]
  },
  {
   "cell_type": "markdown",
   "id": "legitimate-flight",
   "metadata": {},
   "source": [
    "This two are just predicting probabilities and classes"
   ]
  },
  {
   "cell_type": "code",
   "execution_count": 5,
   "id": "intermediate-perspective",
   "metadata": {},
   "outputs": [
    {
     "data": {
      "text/plain": [
       "DecisionTreeRegressor(max_depth=2)"
      ]
     },
     "execution_count": 5,
     "metadata": {},
     "output_type": "execute_result"
    }
   ],
   "source": [
    "from sklearn.tree import DecisionTreeRegressor\n",
    "\n",
    "tree_reg = DecisionTreeRegressor(max_depth=2)\n",
    "tree_reg.fit(X, y)"
   ]
  },
  {
   "cell_type": "markdown",
   "id": "polyphonic-watson",
   "metadata": {},
   "source": [
    "DecisionTreeRegressor is used to predict a value.So it will split specific items making intances training for a faster and easier prediction of their value. The max depth is used to specified the maximum depth of the tree that we are about to study."
   ]
  }
 ],
 "metadata": {
  "kernelspec": {
   "display_name": "Python 3",
   "language": "python",
   "name": "python3"
  },
  "language_info": {
   "codemirror_mode": {
    "name": "ipython",
    "version": 3
   },
   "file_extension": ".py",
   "mimetype": "text/x-python",
   "name": "python",
   "nbconvert_exporter": "python",
   "pygments_lexer": "ipython3",
   "version": "3.9.2"
  }
 },
 "nbformat": 4,
 "nbformat_minor": 5
}
